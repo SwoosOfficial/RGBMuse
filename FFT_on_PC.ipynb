{
 "cells": [
  {
   "cell_type": "code",
   "execution_count": 1,
   "metadata": {},
   "outputs": [],
   "source": [
    "import pyaudio\n",
    "import wave\n",
    "import numpy as np\n",
    "import librosa\n",
    "import threading"
   ]
  },
  {
   "cell_type": "code",
   "execution_count": 2,
   "metadata": {},
   "outputs": [],
   "source": [
    "#%matplotlib inline\n",
    "import matplotlib\n",
    "matplotlib.use( 'TkAgg' )\n",
    "import matplotlib.pyplot as plt\n",
    "from matplotlib.animation import FuncAnimation"
   ]
  },
  {
   "cell_type": "code",
   "execution_count": 3,
   "metadata": {},
   "outputs": [],
   "source": [
    "class StreamThread(threading.Thread):\n",
    "    \"\"\"Thread class with a stop() method. The thread itself has to check\n",
    "    regularly for the stopped() condition.\"\"\"\n",
    "\n",
    "    def __init__(self, \n",
    "                 chunk=300,\n",
    "                 st_format=pyaudio.paInt16,\n",
    "                 channels=1,\n",
    "                 rate=44100,\n",
    "                ):\n",
    "        super(StreamThread, self).__init__()\n",
    "        self._stop_event = threading.Event()\n",
    "        self.data = np.zeros((1,))\n",
    "        self.lock = threading.Lock()\n",
    "        self.chunk = chunk\n",
    "        self.st_format = st_format\n",
    "        self.channels = channels\n",
    "        self.rate = rate\n",
    "        self.pyAudio = pyaudio.PyAudio()\n",
    "        self.stream = self.pyAudio.open(format=self.st_format,\n",
    "                                   channels=self.channels,\n",
    "                                   rate=self.rate,\n",
    "                                   input=True,\n",
    "                                   frames_per_buffer=self.chunk,\n",
    "                                  )\n",
    "        \n",
    "    def run(self):\n",
    "        while not self.stopped():\n",
    "            #with self.lock:\n",
    "            self.data = self.get_stream_data()\n",
    "    \n",
    "    def stop(self):\n",
    "        self.stream.stop_stream()\n",
    "        self.stream.close()\n",
    "        p.terminate()\n",
    "        self._stop_event.set()\n",
    "\n",
    "    def stopped(self):\n",
    "        return self._stop_event.is_set()\n",
    "    \n",
    "    def get_stream_data(self):\n",
    "        data = self.stream.read(self.chunk)\n",
    "        y=np.frombuffer(data, dtype=np.int16)\n",
    "        z=np.asarray(y,dtype=float)\n",
    "        S = librosa.feature.melspectrogram(z, sr=self.rate, n_mels=150)\n",
    "        return librosa.power_to_db(S, ref=100)\n",
    "        #return np.fft.rfft(y)"
   ]
  },
  {
   "cell_type": "code",
   "execution_count": 4,
   "metadata": {},
   "outputs": [],
   "source": [
    "streamThread = StreamThread()\n",
    "streamThread.start()"
   ]
  },
  {
   "cell_type": "code",
   "execution_count": 5,
   "metadata": {},
   "outputs": [],
   "source": [
    "#%%timeit\n",
    "#data=np.log(np.abs(streamThread.get_stream_data()[:,0]))\n",
    "#np.asarray(np.round(data/np.amax(data)*255), dtype=int)\n",
    "#len(data)\n",
    "#streamThread.get_stream_data()[:,0]\n",
    "#ydata=(streamThread.get_stream_data()[:,0])/1\n",
    "#ydata#np.asarray(np.round(ydata), dtype=int)"
   ]
  },
  {
   "cell_type": "code",
   "execution_count": 6,
   "metadata": {},
   "outputs": [],
   "source": [
    "def run():\n",
    "    #fig, ax = plt.subplots(1, 1)\n",
    "    #ax.set_aspect('equal')\n",
    "    #ax.hold(True)\n",
    "    #plt.show(False)\n",
    "    #plt.draw()\n",
    "    \n",
    "    #background = fig.canvas.copy_from_bbox(ax.bbox)\n",
    "    #x=np.linspace(0,len(streamThread.data), len(streamThread.data))\n",
    "    #print(x)\n",
    "    #points = ax.plot(x, streamThread.data)[0]\n",
    "    #print(streamThread.data)\n",
    "    fig = plt.figure()\n",
    "    fig.show()\n",
    "    fig.canvas.draw()\n",
    "    while True:\n",
    "        try:\n",
    "            #with streamThread.lock:\n",
    "                #x=np.linspace(0,len(streamThread.data),len(streamThread.data))\n",
    "                #print(x)\n",
    "                #points.set_data(x, streamThread.data)\n",
    "                #fig.canvas.restore_region(background)\n",
    "                #ax.draw_artist(points)\n",
    "                #fig.canvas.blit(ax.bbox)\n",
    "                #fig.canvas.draw()\n",
    "            ax=plt.gca()\n",
    "            ax.plot(streamThread.data) # plot something\n",
    "            ax.set_xscale(\"log\")\n",
    "            fig.canvas.draw()\n",
    "            plt.pause(0.0001)\n",
    "            plt.clf()\n",
    "                \n",
    "\n",
    "        except KeyboardInterrupt:\n",
    "            streamThread.stop()\n",
    "            streamThread.join()\n",
    "            break\n",
    "    plt.close(fig)"
   ]
  },
  {
   "cell_type": "code",
   "execution_count": 7,
   "metadata": {},
   "outputs": [],
   "source": [
    "def run_thre():\n",
    "    fig, ax = plt.subplots()\n",
    "    #freq = np.fft.rfftfreq(len(streamThread.data[:,0]), 1/streamThread.rate)\n",
    "    xdata = np.linspace(0,len(streamThread.data[:,0]), len(streamThread.data[:,0]))\n",
    "    ydata = streamThread.data[:,0]\n",
    "    ln, = plt.plot(xdata, ydata)\n",
    "\n",
    "    def init():\n",
    "        #ax.set_yscale(\"log\")\n",
    "        ax.set_xscale(\"log\")\n",
    "        #ax.set_xlim(0, 2*np.pi)\n",
    "        ax.set_ylim(0, 1)\n",
    "        return ln,\n",
    "\n",
    "    def update(frame):\n",
    "        ydata=streamThread.data\n",
    "        ydata[ydata<0]=0\n",
    "        ydata=np.asarray([(1.+0.7*x/150)*y for x,y in zip(range(0,150),ydata)])\n",
    "        c=np.amin(ydata)\n",
    "        ydata=np.asarray([y-c for y in ydata])\n",
    "        ydata=ydata/np.amax(ydata)\n",
    "        #ydata=np.abs(ydata)\n",
    "        #ydata=np.asarray(np.round(ydata/np.amax(ydata)*255), dtype=int)\n",
    "        xdata = np.linspace(0,len(streamThread.data[:,0]), len(streamThread.data[:,0]))\n",
    "        #ax.set_xlim(0,len(streamThread.data))\n",
    "        #ax.set_ylim(0,max(streamThread.data)*1.1)\n",
    "        ln.set_data(xdata, ydata)\n",
    "        return ln,\n",
    "\n",
    "    ani = FuncAnimation(fig, update,\n",
    "                        init_func=init, blit=True)\n",
    "    plt.show()"
   ]
  },
  {
   "cell_type": "code",
   "execution_count": null,
   "metadata": {},
   "outputs": [
    {
     "name": "stderr",
     "output_type": "stream",
     "text": [
      "/home/tassilo/Projects/RGBMuse/.RGBMuse_py/lib/python3.7/site-packages/ipykernel_launcher.py:21: RuntimeWarning: invalid value encountered in true_divide\n"
     ]
    }
   ],
   "source": [
    "run_thre()"
   ]
  },
  {
   "cell_type": "code",
   "execution_count": null,
   "metadata": {},
   "outputs": [],
   "source": []
  }
 ],
 "metadata": {
  "kernelspec": {
   "display_name": ".RGBMuse_py",
   "language": "python",
   "name": ".rgbmuse_py"
  },
  "language_info": {
   "codemirror_mode": {
    "name": "ipython",
    "version": 3
   },
   "file_extension": ".py",
   "mimetype": "text/x-python",
   "name": "python",
   "nbconvert_exporter": "python",
   "pygments_lexer": "ipython3",
   "version": "3.7.5"
  }
 },
 "nbformat": 4,
 "nbformat_minor": 2
}
